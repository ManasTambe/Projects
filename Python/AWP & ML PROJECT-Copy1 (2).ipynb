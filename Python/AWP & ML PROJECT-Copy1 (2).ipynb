{
 "cells": [
  {
   "cell_type": "code",
   "execution_count": 1,
   "id": "5bce7a55",
   "metadata": {},
   "outputs": [],
   "source": [
    "#importing required modules\n",
    "import numpy as np\n",
    "import pandas as pd\n",
    "import matplotlib.pyplot as plt\n",
    "import seaborn as sns\n",
    "from sklearn.tree import DecisionTreeRegressor,DecisionTreeClassifier\n",
    "from sklearn import tree\n",
    "from sklearn.svm import SVC\n",
    "from sklearn.metrics import classification_report,accuracy_score\n",
    "from sklearn.preprocessing import OrdinalEncoder,LabelEncoder\n",
    "from sklearn.model_selection import train_test_split\n",
    "from sklearn.metrics import r2_score\n",
    "from sklearn.ensemble import RandomForestClassifier\n",
    "\n",
    "import warnings \n",
    "warnings.filterwarnings('ignore')"
   ]
  },
  {
   "cell_type": "code",
   "execution_count": 2,
   "id": "3fe8a31c",
   "metadata": {},
   "outputs": [
    {
     "name": "stdout",
     "output_type": "stream",
     "text": [
      "________________________________________________________________________________________________________________________\n",
      "\t\t\t*********************DATASET:- Drugs Classification *********************\n",
      "\n",
      "Drug Classification:- The data set contains various information that effect the predictions like Age, Sex, BP, Cholesterol levels, Na to Potassium Ratio and finally the drug type. \n",
      "________________________________________________________________________________________________________________________\n"
     ]
    }
   ],
   "source": [
    "print(('_')*120)\n",
    "print('\\t\\t\\t*********************DATASET:- Drugs Classification *********************\\n\\nDrug Classification:- The data set contains various information that effect the predictions like Age, Sex, BP, Cholesterol levels, Na to Potassium Ratio and finally the drug type. ')\n",
    "print(('_')*120)"
   ]
  },
  {
   "cell_type": "code",
   "execution_count": 3,
   "id": "7e454ea8",
   "metadata": {},
   "outputs": [],
   "source": [
    "val=pd.read_csv('drug200.csv')"
   ]
  },
  {
   "cell_type": "code",
   "execution_count": 4,
   "id": "85d567f1",
   "metadata": {},
   "outputs": [
    {
     "data": {
      "text/html": [
       "<div>\n",
       "<style scoped>\n",
       "    .dataframe tbody tr th:only-of-type {\n",
       "        vertical-align: middle;\n",
       "    }\n",
       "\n",
       "    .dataframe tbody tr th {\n",
       "        vertical-align: top;\n",
       "    }\n",
       "\n",
       "    .dataframe thead th {\n",
       "        text-align: right;\n",
       "    }\n",
       "</style>\n",
       "<table border=\"1\" class=\"dataframe\">\n",
       "  <thead>\n",
       "    <tr style=\"text-align: right;\">\n",
       "      <th></th>\n",
       "      <th>Age</th>\n",
       "      <th>Sex</th>\n",
       "      <th>BP</th>\n",
       "      <th>Cholesterol</th>\n",
       "      <th>Na_to_K</th>\n",
       "      <th>Drug</th>\n",
       "    </tr>\n",
       "  </thead>\n",
       "  <tbody>\n",
       "    <tr>\n",
       "      <th>0</th>\n",
       "      <td>23</td>\n",
       "      <td>F</td>\n",
       "      <td>HIGH</td>\n",
       "      <td>HIGH</td>\n",
       "      <td>25.355</td>\n",
       "      <td>DrugY</td>\n",
       "    </tr>\n",
       "    <tr>\n",
       "      <th>1</th>\n",
       "      <td>47</td>\n",
       "      <td>M</td>\n",
       "      <td>LOW</td>\n",
       "      <td>HIGH</td>\n",
       "      <td>13.093</td>\n",
       "      <td>drugC</td>\n",
       "    </tr>\n",
       "    <tr>\n",
       "      <th>2</th>\n",
       "      <td>47</td>\n",
       "      <td>M</td>\n",
       "      <td>LOW</td>\n",
       "      <td>HIGH</td>\n",
       "      <td>10.114</td>\n",
       "      <td>drugC</td>\n",
       "    </tr>\n",
       "    <tr>\n",
       "      <th>3</th>\n",
       "      <td>28</td>\n",
       "      <td>F</td>\n",
       "      <td>NORMAL</td>\n",
       "      <td>HIGH</td>\n",
       "      <td>7.798</td>\n",
       "      <td>drugX</td>\n",
       "    </tr>\n",
       "    <tr>\n",
       "      <th>4</th>\n",
       "      <td>61</td>\n",
       "      <td>F</td>\n",
       "      <td>LOW</td>\n",
       "      <td>HIGH</td>\n",
       "      <td>18.043</td>\n",
       "      <td>DrugY</td>\n",
       "    </tr>\n",
       "    <tr>\n",
       "      <th>...</th>\n",
       "      <td>...</td>\n",
       "      <td>...</td>\n",
       "      <td>...</td>\n",
       "      <td>...</td>\n",
       "      <td>...</td>\n",
       "      <td>...</td>\n",
       "    </tr>\n",
       "    <tr>\n",
       "      <th>195</th>\n",
       "      <td>56</td>\n",
       "      <td>F</td>\n",
       "      <td>LOW</td>\n",
       "      <td>HIGH</td>\n",
       "      <td>11.567</td>\n",
       "      <td>drugC</td>\n",
       "    </tr>\n",
       "    <tr>\n",
       "      <th>196</th>\n",
       "      <td>16</td>\n",
       "      <td>M</td>\n",
       "      <td>LOW</td>\n",
       "      <td>HIGH</td>\n",
       "      <td>12.006</td>\n",
       "      <td>drugC</td>\n",
       "    </tr>\n",
       "    <tr>\n",
       "      <th>197</th>\n",
       "      <td>52</td>\n",
       "      <td>M</td>\n",
       "      <td>NORMAL</td>\n",
       "      <td>HIGH</td>\n",
       "      <td>9.894</td>\n",
       "      <td>drugX</td>\n",
       "    </tr>\n",
       "    <tr>\n",
       "      <th>198</th>\n",
       "      <td>23</td>\n",
       "      <td>M</td>\n",
       "      <td>NORMAL</td>\n",
       "      <td>NORMAL</td>\n",
       "      <td>14.020</td>\n",
       "      <td>drugX</td>\n",
       "    </tr>\n",
       "    <tr>\n",
       "      <th>199</th>\n",
       "      <td>40</td>\n",
       "      <td>F</td>\n",
       "      <td>LOW</td>\n",
       "      <td>NORMAL</td>\n",
       "      <td>11.349</td>\n",
       "      <td>drugX</td>\n",
       "    </tr>\n",
       "  </tbody>\n",
       "</table>\n",
       "<p>200 rows × 6 columns</p>\n",
       "</div>"
      ],
      "text/plain": [
       "     Age Sex      BP Cholesterol  Na_to_K   Drug\n",
       "0     23   F    HIGH        HIGH   25.355  DrugY\n",
       "1     47   M     LOW        HIGH   13.093  drugC\n",
       "2     47   M     LOW        HIGH   10.114  drugC\n",
       "3     28   F  NORMAL        HIGH    7.798  drugX\n",
       "4     61   F     LOW        HIGH   18.043  DrugY\n",
       "..   ...  ..     ...         ...      ...    ...\n",
       "195   56   F     LOW        HIGH   11.567  drugC\n",
       "196   16   M     LOW        HIGH   12.006  drugC\n",
       "197   52   M  NORMAL        HIGH    9.894  drugX\n",
       "198   23   M  NORMAL      NORMAL   14.020  drugX\n",
       "199   40   F     LOW      NORMAL   11.349  drugX\n",
       "\n",
       "[200 rows x 6 columns]"
      ]
     },
     "execution_count": 4,
     "metadata": {},
     "output_type": "execute_result"
    }
   ],
   "source": [
    "val"
   ]
  },
  {
   "cell_type": "code",
   "execution_count": 5,
   "id": "096a07fe",
   "metadata": {},
   "outputs": [
    {
     "data": {
      "text/plain": [
       "Index(['Age', 'Sex', 'BP', 'Cholesterol', 'Na_to_K', 'Drug'], dtype='object')"
      ]
     },
     "execution_count": 5,
     "metadata": {},
     "output_type": "execute_result"
    }
   ],
   "source": [
    "val.columns"
   ]
  },
  {
   "cell_type": "code",
   "execution_count": 6,
   "id": "7d0d1683",
   "metadata": {},
   "outputs": [
    {
     "name": "stdout",
     "output_type": "stream",
     "text": [
      "________________________________________________________________________________________________________________________\n",
      "\t\t\t\t*********************UNDERSTANDING OF GIVEN DATA*********************\n",
      "\n",
      "  The target feature is (Drug type) \n",
      "\n",
      "The feature sets are: Age, Sex, Blood Pressure Levels(BP), Cholesterol Levels, Na to Potassium Ration \n",
      "________________________________________________________________________________________________________________________\n"
     ]
    }
   ],
   "source": [
    "print(('_')*120)\n",
    "print('\\t\\t\\t\\t*********************UNDERSTANDING OF GIVEN DATA*********************\\n\\n  The target feature is (Drug type) \\n\\nThe feature sets are: Age, Sex, Blood Pressure Levels(BP), Cholesterol Levels, Na to Potassium Ration ')\n",
    "print(('_')*120)"
   ]
  },
  {
   "cell_type": "markdown",
   "id": "2db71380",
   "metadata": {},
   "source": [
    "# Basic info of the Dataset "
   ]
  },
  {
   "cell_type": "code",
   "execution_count": 7,
   "id": "5922c8bd",
   "metadata": {},
   "outputs": [
    {
     "name": "stdout",
     "output_type": "stream",
     "text": [
      "________________________________________________________________________________________________________________________\n",
      "\t\t\t\t*********************ANALYSIS*********************\n",
      "\t\t\t\tMY DATABASE HAS 6 COLUMNS AND 200 ROWS.\n",
      "\t\t\t\tIT HAS 4 CATEGORICAL COLUMNS AND 2 NUMERICAL COLUMNS.\n",
      "________________________________________________________________________________________________________________________\n",
      "<class 'pandas.core.frame.DataFrame'>\n",
      "RangeIndex: 200 entries, 0 to 199\n",
      "Data columns (total 6 columns):\n",
      " #   Column       Non-Null Count  Dtype  \n",
      "---  ------       --------------  -----  \n",
      " 0   Age          200 non-null    int64  \n",
      " 1   Sex          200 non-null    object \n",
      " 2   BP           200 non-null    object \n",
      " 3   Cholesterol  200 non-null    object \n",
      " 4   Na_to_K      200 non-null    float64\n",
      " 5   Drug         200 non-null    object \n",
      "dtypes: float64(1), int64(1), object(4)\n",
      "memory usage: 9.5+ KB\n"
     ]
    }
   ],
   "source": [
    "print(('_')*120)\n",
    "print('\\t\\t\\t\\t*********************ANALYSIS*********************\\n\\t\\t\\t\\tMY DATABASE HAS 6 COLUMNS AND 200 ROWS.\\n\\t\\t\\t\\tIT HAS 4 CATEGORICAL COLUMNS AND 2 NUMERICAL COLUMNS.')\n",
    "print(('_')*120)\n",
    "val.info()"
   ]
  },
  {
   "cell_type": "markdown",
   "id": "1bbf27fc-f27f-4e95-b1fc-98067497852f",
   "metadata": {},
   "source": [
    "# Analysis"
   ]
  },
  {
   "cell_type": "markdown",
   "id": "ea68f66b",
   "metadata": {},
   "source": [
    "### Q1 Which sex was addicted most by the drugs?"
   ]
  },
  {
   "cell_type": "code",
   "execution_count": 8,
   "id": "a76ed81d",
   "metadata": {},
   "outputs": [
    {
     "name": "stdout",
     "output_type": "stream",
     "text": [
      "________________________________________________________________________________________________________________________\n",
      "\t\t\t\t**************ANALYSIS***************\n",
      "\n",
      "\t\t Male were the most addicted with drugs\n",
      "________________________________________________________________________________________________________________________\n"
     ]
    },
    {
     "data": {
      "image/png": "[encoded data removed]",
      "text/plain": [
       "<Figure size 640x480 with 1 Axes>"
      ]
     },
     "metadata": {},
     "output_type": "display_data"
    }
   ],
   "source": [
    "print((\"_\")*120)\n",
    "print(\"\\t\\t\\t\\t**************ANALYSIS***************\\n\\n\\t\\t Male were the most addicted with drugs\")\n",
    "print((\"_\")*120)\n",
    "\n",
    "x=(val['Sex'].unique())\n",
    "y=(val['Drug'].value_counts())\n",
    "val['Sex'].value_counts().plot(kind='bar')\n",
    "plt.xticks(rotation=0)\n",
    "plt.show()"
   ]
  },
  {
   "cell_type": "markdown",
   "id": "eee8348c",
   "metadata": {},
   "source": [
    "### Q2 Distribution of Drug used?"
   ]
  },
  {
   "cell_type": "code",
   "execution_count": 9,
   "id": "f7491397",
   "metadata": {},
   "outputs": [
    {
     "name": "stdout",
     "output_type": "stream",
     "text": [
      "________________________________________________________________________________________________________________________\n",
      "\t\t\t\t**************ANALYSIS***************\n",
      "\n",
      "\t\t DrugY is used on al large scale\n",
      "________________________________________________________________________________________________________________________\n"
     ]
    },
    {
     "data": {
      "image/png": "[encoded data removed]",
      "text/plain": [
       "<Figure size 640x480 with 1 Axes>"
      ]
     },
     "metadata": {},
     "output_type": "display_data"
    }
   ],
   "source": [
    "print((\"_\")*120)\n",
    "print(\"\\t\\t\\t\\t**************ANALYSIS***************\\n\\n\\t\\t DrugY is used on al large scale\")\n",
    "print((\"_\")*120)\n",
    "val['Drug'].value_counts().plot.pie(autopct='%1.2f%%',explode=(0.1,0,0,0,0))\n",
    "plt.show()"
   ]
  },
  {
   "cell_type": "markdown",
   "id": "3accc9af",
   "metadata": {},
   "source": [
    "# Q3 Addiction of drugs correlation to age"
   ]
  },
  {
   "cell_type": "code",
   "execution_count": 10,
   "id": "58b09ae5-aa0e-46a5-ba6f-6c84c0bc24b7",
   "metadata": {},
   "outputs": [
    {
     "name": "stdout",
     "output_type": "stream",
     "text": [
      "________________________________________________________________________________________________________________________\n",
      "\t\t\t\t**************ANALYSIS***************\n",
      "\n",
      "\t\t\t\t People at age 70 consume most drugs\n",
      "________________________________________________________________________________________________________________________\n"
     ]
    },
    {
     "data": {
      "image/png": "[encoded data removed]",
      "text/plain": [
       "<Figure size 640x480 with 1 Axes>"
      ]
     },
     "metadata": {},
     "output_type": "display_data"
    }
   ],
   "source": [
    "print((\"_\")*120)\n",
    "print(\"\\t\\t\\t\\t**************ANALYSIS***************\\n\\n\\t\\t\\t\\t People at age 70 consume most drugs\")\n",
    "print((\"_\")*120)\n",
    "x=val['Drug']\n",
    "y=val['Age']\n",
    "plt.barh(x,y)\n",
    "plt.show()"
   ]
  },
  {
   "cell_type": "markdown",
   "id": "e3007929",
   "metadata": {},
   "source": [
    "# ML Project\n"
   ]
  },
  {
   "cell_type": "markdown",
   "id": "d8603735",
   "metadata": {},
   "source": [
    "## Outliers"
   ]
  },
  {
   "cell_type": "code",
   "execution_count": 11,
   "id": "a66626e1",
   "metadata": {},
   "outputs": [
    {
     "name": "stdout",
     "output_type": "stream",
     "text": [
      "________________________________________________________________________________________________________________________\n",
      "\t\t\t\t**************ANALYSIS***************\n",
      "\n",
      "\t\t\t\t\t There are no Outliers\n",
      "________________________________________________________________________________________________________________________\n"
     ]
    },
    {
     "data": {
      "image/png": "[encoded data removed]",
      "text/plain": [
       "<Figure size 640x480 with 1 Axes>"
      ]
     },
     "metadata": {},
     "output_type": "display_data"
    }
   ],
   "source": [
    "print((\"_\")*120)\n",
    "print(\"\\t\\t\\t\\t**************ANALYSIS***************\\n\\n\\t\\t\\t\\t\\t There are no Outliers\")\n",
    "print((\"_\")*120)\n",
    "sns.boxplot(data= val, x= \"Drug\")\n",
    "plt.xticks(rotation=90)\n",
    "\n",
    "plt.grid()"
   ]
  },
  {
   "cell_type": "code",
   "execution_count": 12,
   "id": "17ecfd29-47a8-4fca-bbc7-7b531503e532",
   "metadata": {
    "scrolled": true
   },
   "outputs": [
    {
     "data": {
      "text/plain": [
       "Drug\n",
       "DrugY    91\n",
       "drugX    54\n",
       "drugA    23\n",
       "drugC    16\n",
       "drugB    16\n",
       "Name: count, dtype: int64"
      ]
     },
     "execution_count": 12,
     "metadata": {},
     "output_type": "execute_result"
    }
   ],
   "source": [
    "val['Drug'].value_counts()"
   ]
  },
  {
   "cell_type": "markdown",
   "id": "03c288b3-3460-487e-ac4e-7f473fa81453",
   "metadata": {},
   "source": [
    "## Spliting the data into x & y"
   ]
  },
  {
   "cell_type": "code",
   "execution_count": 13,
   "id": "6bb0ff4a",
   "metadata": {},
   "outputs": [],
   "source": [
    "x=val.drop(['Drug'], axis=1)\n",
    "y=val['Drug']"
   ]
  },
  {
   "cell_type": "markdown",
   "id": "673d86ec",
   "metadata": {},
   "source": [
    "## Encoding"
   ]
  },
  {
   "cell_type": "code",
   "execution_count": 14,
   "id": "2fe12b66",
   "metadata": {},
   "outputs": [],
   "source": [
    "encoder = OrdinalEncoder()\n",
    "en = LabelEncoder()"
   ]
  },
  {
   "cell_type": "code",
   "execution_count": 15,
   "id": "88531b8a",
   "metadata": {},
   "outputs": [],
   "source": [
    "x= encoder.fit_transform(x)\n",
    "y=en.fit_transform(y)"
   ]
  },
  {
   "cell_type": "code",
   "execution_count": 16,
   "id": "f73fb4e8-58e7-433e-a9ad-e6d3c99eedb3",
   "metadata": {},
   "outputs": [
    {
     "data": {
      "text/plain": [
       "array([0, 3, 3, 4, 0, 4, 0, 3, 0, 0, 3, 0, 0, 0, 4, 0, 4, 1, 3, 0, 0, 0,\n",
       "       0, 0, 0, 0, 0, 4, 0, 0, 4, 2, 4, 0, 4, 4, 1, 4, 4, 4, 0, 2, 0, 4,\n",
       "       4, 4, 1, 3, 0, 0, 0, 4, 0, 0, 2, 3, 2, 0, 4, 0, 0, 1, 0, 4, 2, 0,\n",
       "       1, 4, 0, 0, 2, 0, 4, 0, 0, 0, 1, 0, 1, 4, 2, 4, 3, 1, 3, 2, 4, 0,\n",
       "       0, 0, 0, 0, 0, 0, 0, 4, 0, 0, 0, 0, 1, 1, 3, 4, 0, 4, 4, 0, 2, 0,\n",
       "       1, 4, 4, 4, 4, 0, 4, 4, 1, 0, 0, 0, 0, 0, 2, 0, 0, 4, 0, 4, 0, 0,\n",
       "       4, 0, 0, 4, 2, 1, 2, 4, 1, 0, 2, 0, 1, 4, 4, 1, 4, 3, 1, 2, 4, 4,\n",
       "       0, 3, 1, 0, 3, 4, 4, 2, 4, 0, 0, 0, 0, 4, 0, 1, 4, 4, 0, 0, 1, 0,\n",
       "       1, 0, 0, 0, 0, 4, 4, 0, 0, 0, 2, 1, 0, 0, 0, 1, 0, 3, 0, 3, 3, 4,\n",
       "       4, 4])"
      ]
     },
     "execution_count": 16,
     "metadata": {},
     "output_type": "execute_result"
    }
   ],
   "source": [
    "y"
   ]
  },
  {
   "cell_type": "code",
   "execution_count": 17,
   "id": "b9ba94a6-ff4b-4756-bbb1-688eba930530",
   "metadata": {},
   "outputs": [],
   "source": [
    "from sklearn.preprocessing import StandardScaler"
   ]
  },
  {
   "cell_type": "code",
   "execution_count": 18,
   "id": "697f59c6-b750-4baa-ab4c-9f2a74081d2c",
   "metadata": {},
   "outputs": [],
   "source": [
    "scaler = StandardScaler()"
   ]
  },
  {
   "cell_type": "code",
   "execution_count": 19,
   "id": "8c2df5f7-46fd-4c7d-a3ca-7b00f77a3936",
   "metadata": {},
   "outputs": [
    {
     "data": {
      "text/html": [
       "<style>#sk-container-id-1 {color: black;}#sk-container-id-1 pre{padding: 0;}#sk-container-id-1 div.sk-toggleable {background-color: white;}#sk-container-id-1 label.sk-toggleable__label {cursor: pointer;display: block;width: 100%;margin-bottom: 0;padding: 0.3em;box-sizing: border-box;text-align: center;}#sk-container-id-1 label.sk-toggleable__label-arrow:before {content: \"▸\";float: left;margin-right: 0.25em;color: #696969;}#sk-container-id-1 label.sk-toggleable__label-arrow:hover:before {color: black;}#sk-container-id-1 div.sk-estimator:hover label.sk-toggleable__label-arrow:before {color: black;}#sk-container-id-1 div.sk-toggleable__content {max-height: 0;max-width: 0;overflow: hidden;text-align: left;background-color: #f0f8ff;}#sk-container-id-1 div.sk-toggleable__content pre {margin: 0.2em;color: black;border-radius: 0.25em;background-color: #f0f8ff;}#sk-container-id-1 input.sk-toggleable__control:checked~div.sk-toggleable__content {max-height: 200px;max-width: 100%;overflow: auto;}#sk-container-id-1 input.sk-toggleable__control:checked~label.sk-toggleable__label-arrow:before {content: \"▾\";}#sk-container-id-1 div.sk-estimator input.sk-toggleable__control:checked~label.sk-toggleable__label {background-color: #d4ebff;}#sk-container-id-1 div.sk-label input.sk-toggleable__control:checked~label.sk-toggleable__label {background-color: #d4ebff;}#sk-container-id-1 input.sk-hidden--visually {border: 0;clip: rect(1px 1px 1px 1px);clip: rect(1px, 1px, 1px, 1px);height: 1px;margin: -1px;overflow: hidden;padding: 0;position: absolute;width: 1px;}#sk-container-id-1 div.sk-estimator {font-family: monospace;background-color: #f0f8ff;border: 1px dotted black;border-radius: 0.25em;box-sizing: border-box;margin-bottom: 0.5em;}#sk-container-id-1 div.sk-estimator:hover {background-color: #d4ebff;}#sk-container-id-1 div.sk-parallel-item::after {content: \"\";width: 100%;border-bottom: 1px solid gray;flex-grow: 1;}#sk-container-id-1 div.sk-label:hover label.sk-toggleable__label {background-color: #d4ebff;}#sk-container-id-1 div.sk-serial::before {content: \"\";position: absolute;border-left: 1px solid gray;box-sizing: border-box;top: 0;bottom: 0;left: 50%;z-index: 0;}#sk-container-id-1 div.sk-serial {display: flex;flex-direction: column;align-items: center;background-color: white;padding-right: 0.2em;padding-left: 0.2em;position: relative;}#sk-container-id-1 div.sk-item {position: relative;z-index: 1;}#sk-container-id-1 div.sk-parallel {display: flex;align-items: stretch;justify-content: center;background-color: white;position: relative;}#sk-container-id-1 div.sk-item::before, #sk-container-id-1 div.sk-parallel-item::before {content: \"\";position: absolute;border-left: 1px solid gray;box-sizing: border-box;top: 0;bottom: 0;left: 50%;z-index: -1;}#sk-container-id-1 div.sk-parallel-item {display: flex;flex-direction: column;z-index: 1;position: relative;background-color: white;}#sk-container-id-1 div.sk-parallel-item:first-child::after {align-self: flex-end;width: 50%;}#sk-container-id-1 div.sk-parallel-item:last-child::after {align-self: flex-start;width: 50%;}#sk-container-id-1 div.sk-parallel-item:only-child::after {width: 0;}#sk-container-id-1 div.sk-dashed-wrapped {border: 1px dashed gray;margin: 0 0.4em 0.5em 0.4em;box-sizing: border-box;padding-bottom: 0.4em;background-color: white;}#sk-container-id-1 div.sk-label label {font-family: monospace;font-weight: bold;display: inline-block;line-height: 1.2em;}#sk-container-id-1 div.sk-label-container {text-align: center;}#sk-container-id-1 div.sk-container {/* jupyter's `normalize.less` sets `[hidden] { display: none; }` but bootstrap.min.css set `[hidden] { display: none !important; }` so we also need the `!important` here to be able to override the default hidden behavior on the sphinx rendered scikit-learn.org. See: https://github.com/scikit-learn/scikit-learn/issues/21755 */display: inline-block !important;position: relative;}#sk-container-id-1 div.sk-text-repr-fallback {display: none;}</style><div id=\"sk-container-id-1\" class=\"sk-top-container\"><div class=\"sk-text-repr-fallback\"><pre>StandardScaler()</pre><b>In a Jupyter environment, please rerun this cell to show the HTML representation or trust the notebook. <br />On GitHub, the HTML representation is unable to render, please try loading this page with nbviewer.org.</b></div><div class=\"sk-container\" hidden><div class=\"sk-item\"><div class=\"sk-estimator sk-toggleable\"><input class=\"sk-toggleable__control sk-hidden--visually\" id=\"sk-estimator-id-1\" type=\"checkbox\" checked><label for=\"sk-estimator-id-1\" class=\"sk-toggleable__label sk-toggleable__label-arrow\">StandardScaler</label><div class=\"sk-toggleable__content\"><pre>StandardScaler()</pre></div></div></div></div></div>"
      ],
      "text/plain": [
       "StandardScaler()"
      ]
     },
     "execution_count": 19,
     "metadata": {},
     "output_type": "execute_result"
    }
   ],
   "source": [
    "scaler.fit(x)"
   ]
  },
  {
   "cell_type": "code",
   "execution_count": 20,
   "id": "1b1a42db",
   "metadata": {},
   "outputs": [],
   "source": [
    "xtrain,xtest,ytrain,ytest=train_test_split(x,y,test_size=0.25,random_state=1)"
   ]
  },
  {
   "cell_type": "code",
   "execution_count": null,
   "id": "5f2e424d-a722-4a21-bd87-a355de9f073e",
   "metadata": {},
   "outputs": [],
   "source": []
  },
  {
   "cell_type": "markdown",
   "id": "620d5023-8818-4842-9e9f-6a35a1d9d9af",
   "metadata": {},
   "source": [
    "## 1 - Predicting the data using Logistics Regression"
   ]
  },
  {
   "cell_type": "code",
   "execution_count": 21,
   "id": "80348821",
   "metadata": {},
   "outputs": [],
   "source": [
    "from sklearn.linear_model import LogisticRegression"
   ]
  },
  {
   "cell_type": "code",
   "execution_count": null,
   "id": "e52b78d3",
   "metadata": {},
   "outputs": [],
   "source": []
  },
  {
   "cell_type": "code",
   "execution_count": 22,
   "id": "b01e1e69",
   "metadata": {},
   "outputs": [],
   "source": [
    "logreg=LogisticRegression() \n",
    "logreg.fit(xtrain,ytrain)\n",
    "ypred=logreg.predict(xtest)"
   ]
  },
  {
   "cell_type": "code",
   "execution_count": 23,
   "id": "75f2026e",
   "metadata": {},
   "outputs": [
    {
     "name": "stdout",
     "output_type": "stream",
     "text": [
      "________________________________________________________________________________________________________________________\n",
      "\t\t\t\t******************ANALYSIS******************\n",
      "\n",
      "\t\t\t\tWe have achieved an Average Accuracy of 94 % which is quite good \n",
      "\t\t\t\tLets see if we can increase this accuracy by hyper tuning \n",
      "________________________________________________________________________________________________________________________\n",
      "              precision    recall  f1-score   support\n",
      "\n",
      "           0       0.91      0.95      0.93        21\n",
      "           1       1.00      1.00      1.00         4\n",
      "           2       1.00      1.00      1.00         5\n",
      "           3       1.00      0.75      0.86         4\n",
      "           4       0.94      0.94      0.94        16\n",
      "\n",
      "    accuracy                           0.94        50\n",
      "   macro avg       0.97      0.93      0.94        50\n",
      "weighted avg       0.94      0.94      0.94        50\n",
      "\n"
     ]
    }
   ],
   "source": [
    "print((\"_\")*120)\n",
    "print(\"\\t\\t\\t\\t******************ANALYSIS******************\\n\\n\\t\\t\\t\\tWe have achieved an Average Accuracy of 94 % which is quite good \\n\\t\\t\\t\\tLets see if we can increase this accuracy by hyper tuning \")\n",
    "print((\"_\")*120)\n",
    "\n",
    "from sklearn.metrics import classification_report \n",
    "cr=classification_report(ytest,ypred)\n",
    "print(cr)"
   ]
  },
  {
   "cell_type": "markdown",
   "id": "7282e4d3",
   "metadata": {},
   "source": [
    "### 1.1 - HPT using Solvers"
   ]
  },
  {
   "cell_type": "markdown",
   "id": "80b526df",
   "metadata": {},
   "source": [
    "### i - Liblinear"
   ]
  },
  {
   "cell_type": "code",
   "execution_count": 24,
   "id": "739d2c14",
   "metadata": {},
   "outputs": [],
   "source": [
    "logreg=LogisticRegression(solver='liblinear')\n",
    "logreg.fit(xtrain,ytrain)\n",
    "ypred=logreg.predict(xtest)"
   ]
  },
  {
   "cell_type": "code",
   "execution_count": 25,
   "id": "9a9f7dee",
   "metadata": {},
   "outputs": [
    {
     "name": "stdout",
     "output_type": "stream",
     "text": [
      "________________________________________________________________________________________________________________________\n",
      "\t\t\t\t******************ANALYSIS*******************\n",
      "\n",
      "\t\t By using Liblinear we have achieved an Average Accuracy of 88 % which is still not good.\n",
      "\t\t It fell down from 94% \n",
      "________________________________________________________________________________________________________________________\n",
      "              precision    recall  f1-score   support\n",
      "\n",
      "           0       0.91      1.00      0.95        21\n",
      "           1       1.00      0.75      0.86         4\n",
      "           2       0.71      1.00      0.83         5\n",
      "           3       0.00      0.00      0.00         4\n",
      "           4       0.88      0.94      0.91        16\n",
      "\n",
      "    accuracy                           0.88        50\n",
      "   macro avg       0.70      0.74      0.71        50\n",
      "weighted avg       0.82      0.88      0.84        50\n",
      "\n"
     ]
    }
   ],
   "source": [
    "print((\"_\")*120)\n",
    "print(\"\\t\\t\\t\\t******************ANALYSIS*******************\\n\\n\\t\\t By using Liblinear we have achieved an Average Accuracy of 88 % which is still not good.\\n\\t\\t It fell down from 94% \")\n",
    "print((\"_\")*120)\n",
    "\n",
    "cr=classification_report(ytest,ypred)\n",
    "print(cr)"
   ]
  },
  {
   "cell_type": "markdown",
   "id": "e534f260",
   "metadata": {},
   "source": [
    "### ii - Saga"
   ]
  },
  {
   "cell_type": "code",
   "execution_count": 26,
   "id": "2ebee4a5",
   "metadata": {},
   "outputs": [],
   "source": [
    "logreg=LogisticRegression(solver='saga')\n",
    "logreg.fit(xtrain,ytrain)\n",
    "ypred=logreg.predict(xtest)"
   ]
  },
  {
   "cell_type": "code",
   "execution_count": 27,
   "id": "fbdbe619",
   "metadata": {},
   "outputs": [
    {
     "name": "stdout",
     "output_type": "stream",
     "text": [
      "________________________________________________________________________________________________________________________\n",
      "\t\t\t\t******************ANALYSIS******************\n",
      "\n",
      "\t\t\tBy using Saga we have achieved an Average Accuracy of 62 % which is not good at all.\n",
      "________________________________________________________________________________________________________________________\n",
      "              precision    recall  f1-score   support\n",
      "\n",
      "           0       0.68      1.00      0.81        21\n",
      "           1       0.00      0.00      0.00         4\n",
      "           2       0.00      0.00      0.00         5\n",
      "           3       0.00      0.00      0.00         4\n",
      "           4       0.53      0.62      0.57        16\n",
      "\n",
      "    accuracy                           0.62        50\n",
      "   macro avg       0.24      0.33      0.28        50\n",
      "weighted avg       0.45      0.62      0.52        50\n",
      "\n"
     ]
    }
   ],
   "source": [
    "print((\"_\")*120)\n",
    "print(\"\\t\\t\\t\\t******************ANALYSIS******************\\n\\n\\t\\t\\tBy using Saga we have achieved an Average Accuracy of 62 % which is not good at all.\")\n",
    "print((\"_\")*120)\n",
    "\n",
    "cr=classification_report(ytest,ypred)\n",
    "print(cr)"
   ]
  },
  {
   "cell_type": "code",
   "execution_count": 28,
   "id": "6dcfc2a2",
   "metadata": {},
   "outputs": [],
   "source": [
    "logreg=LogisticRegression(solver='sag')\n",
    "logreg.fit(xtrain,ytrain)\n",
    "ypred=logreg.predict(xtest)"
   ]
  },
  {
   "cell_type": "code",
   "execution_count": 29,
   "id": "605b289d",
   "metadata": {},
   "outputs": [
    {
     "name": "stdout",
     "output_type": "stream",
     "text": [
      "________________________________________________________________________________________________________________________\n",
      "\t\t\t\t******************ANALYSIS******************\n",
      "\n",
      "\t\tBy using Sag we have achieved an Average Accuracy of 64 % which is still not good.\n",
      "________________________________________________________________________________________________________________________\n",
      "              precision    recall  f1-score   support\n",
      "\n",
      "           0       0.70      1.00      0.82        21\n",
      "           1       0.00      0.00      0.00         4\n",
      "           2       0.00      0.00      0.00         5\n",
      "           3       0.00      0.00      0.00         4\n",
      "           4       0.55      0.69      0.61        16\n",
      "\n",
      "    accuracy                           0.64        50\n",
      "   macro avg       0.25      0.34      0.29        50\n",
      "weighted avg       0.47      0.64      0.54        50\n",
      "\n"
     ]
    }
   ],
   "source": [
    "print((\"_\")*120)\n",
    "print(\"\\t\\t\\t\\t******************ANALYSIS******************\\n\\n\\t\\tBy using Sag we have achieved an Average Accuracy of 64 % which is still not good.\")\n",
    "print((\"_\")*120)\n",
    "\n",
    "cr=classification_report(ytest,ypred)\n",
    "print(cr)"
   ]
  },
  {
   "cell_type": "code",
   "execution_count": null,
   "id": "e4733ea1",
   "metadata": {},
   "outputs": [],
   "source": []
  },
  {
   "cell_type": "markdown",
   "id": "4fd2fc94",
   "metadata": {},
   "source": [
    "## 2 - Predicting the data using Decision Tree"
   ]
  },
  {
   "cell_type": "code",
   "execution_count": null,
   "id": "d3b3f236",
   "metadata": {},
   "outputs": [],
   "source": []
  },
  {
   "cell_type": "code",
   "execution_count": 30,
   "id": "83fb605f",
   "metadata": {},
   "outputs": [],
   "source": [
    "dt=DecisionTreeClassifier()"
   ]
  },
  {
   "cell_type": "code",
   "execution_count": 31,
   "id": "a520c5a7",
   "metadata": {},
   "outputs": [],
   "source": [
    "def mymodel(model):\n",
    "    model.fit(xtrain,ytrain)\n",
    "    ypred = model.predict(xtest)\n",
    "    print(accuracy_score(ytest,ypred))\n",
    "    print(classification_report(ytest,ypred))\n",
    "    return model"
   ]
  },
  {
   "cell_type": "code",
   "execution_count": 32,
   "id": "af8f4e60",
   "metadata": {},
   "outputs": [
    {
     "name": "stdout",
     "output_type": "stream",
     "text": [
      "________________________________________________________________________________________________________________________\n",
      "\t\t\t\t******************ANALYSIS******************\n",
      "\n",
      "\t\t\tBy using Decision Tree we get a accuracy of 98% which is good enough\n",
      "\t\tLets see if we can increase this accuracy by hyper tuning \n",
      "________________________________________________________________________________________________________________________\n",
      "0.98\n",
      "              precision    recall  f1-score   support\n",
      "\n",
      "           0       1.00      0.95      0.98        21\n",
      "           1       1.00      1.00      1.00         4\n",
      "           2       1.00      1.00      1.00         5\n",
      "           3       0.80      1.00      0.89         4\n",
      "           4       1.00      1.00      1.00        16\n",
      "\n",
      "    accuracy                           0.98        50\n",
      "   macro avg       0.96      0.99      0.97        50\n",
      "weighted avg       0.98      0.98      0.98        50\n",
      "\n"
     ]
    },
    {
     "data": {
      "text/html": [
       "<style>#sk-container-id-2 {color: black;}#sk-container-id-2 pre{padding: 0;}#sk-container-id-2 div.sk-toggleable {background-color: white;}#sk-container-id-2 label.sk-toggleable__label {cursor: pointer;display: block;width: 100%;margin-bottom: 0;padding: 0.3em;box-sizing: border-box;text-align: center;}#sk-container-id-2 label.sk-toggleable__label-arrow:before {content: \"▸\";float: left;margin-right: 0.25em;color: #696969;}#sk-container-id-2 label.sk-toggleable__label-arrow:hover:before {color: black;}#sk-container-id-2 div.sk-estimator:hover label.sk-toggleable__label-arrow:before {color: black;}#sk-container-id-2 div.sk-toggleable__content {max-height: 0;max-width: 0;overflow: hidden;text-align: left;background-color: #f0f8ff;}#sk-container-id-2 div.sk-toggleable__content pre {margin: 0.2em;color: black;border-radius: 0.25em;background-color: #f0f8ff;}#sk-container-id-2 input.sk-toggleable__control:checked~div.sk-toggleable__content {max-height: 200px;max-width: 100%;overflow: auto;}#sk-container-id-2 input.sk-toggleable__control:checked~label.sk-toggleable__label-arrow:before {content: \"▾\";}#sk-container-id-2 div.sk-estimator input.sk-toggleable__control:checked~label.sk-toggleable__label {background-color: #d4ebff;}#sk-container-id-2 div.sk-label input.sk-toggleable__control:checked~label.sk-toggleable__label {background-color: #d4ebff;}#sk-container-id-2 input.sk-hidden--visually {border: 0;clip: rect(1px 1px 1px 1px);clip: rect(1px, 1px, 1px, 1px);height: 1px;margin: -1px;overflow: hidden;padding: 0;position: absolute;width: 1px;}#sk-container-id-2 div.sk-estimator {font-family: monospace;background-color: #f0f8ff;border: 1px dotted black;border-radius: 0.25em;box-sizing: border-box;margin-bottom: 0.5em;}#sk-container-id-2 div.sk-estimator:hover {background-color: #d4ebff;}#sk-container-id-2 div.sk-parallel-item::after {content: \"\";width: 100%;border-bottom: 1px solid gray;flex-grow: 1;}#sk-container-id-2 div.sk-label:hover label.sk-toggleable__label {background-color: #d4ebff;}#sk-container-id-2 div.sk-serial::before {content: \"\";position: absolute;border-left: 1px solid gray;box-sizing: border-box;top: 0;bottom: 0;left: 50%;z-index: 0;}#sk-container-id-2 div.sk-serial {display: flex;flex-direction: column;align-items: center;background-color: white;padding-right: 0.2em;padding-left: 0.2em;position: relative;}#sk-container-id-2 div.sk-item {position: relative;z-index: 1;}#sk-container-id-2 div.sk-parallel {display: flex;align-items: stretch;justify-content: center;background-color: white;position: relative;}#sk-container-id-2 div.sk-item::before, #sk-container-id-2 div.sk-parallel-item::before {content: \"\";position: absolute;border-left: 1px solid gray;box-sizing: border-box;top: 0;bottom: 0;left: 50%;z-index: -1;}#sk-container-id-2 div.sk-parallel-item {display: flex;flex-direction: column;z-index: 1;position: relative;background-color: white;}#sk-container-id-2 div.sk-parallel-item:first-child::after {align-self: flex-end;width: 50%;}#sk-container-id-2 div.sk-parallel-item:last-child::after {align-self: flex-start;width: 50%;}#sk-container-id-2 div.sk-parallel-item:only-child::after {width: 0;}#sk-container-id-2 div.sk-dashed-wrapped {border: 1px dashed gray;margin: 0 0.4em 0.5em 0.4em;box-sizing: border-box;padding-bottom: 0.4em;background-color: white;}#sk-container-id-2 div.sk-label label {font-family: monospace;font-weight: bold;display: inline-block;line-height: 1.2em;}#sk-container-id-2 div.sk-label-container {text-align: center;}#sk-container-id-2 div.sk-container {/* jupyter's `normalize.less` sets `[hidden] { display: none; }` but bootstrap.min.css set `[hidden] { display: none !important; }` so we also need the `!important` here to be able to override the default hidden behavior on the sphinx rendered scikit-learn.org. See: https://github.com/scikit-learn/scikit-learn/issues/21755 */display: inline-block !important;position: relative;}#sk-container-id-2 div.sk-text-repr-fallback {display: none;}</style><div id=\"sk-container-id-2\" class=\"sk-top-container\"><div class=\"sk-text-repr-fallback\"><pre>DecisionTreeClassifier()</pre><b>In a Jupyter environment, please rerun this cell to show the HTML representation or trust the notebook. <br />On GitHub, the HTML representation is unable to render, please try loading this page with nbviewer.org.</b></div><div class=\"sk-container\" hidden><div class=\"sk-item\"><div class=\"sk-estimator sk-toggleable\"><input class=\"sk-toggleable__control sk-hidden--visually\" id=\"sk-estimator-id-2\" type=\"checkbox\" checked><label for=\"sk-estimator-id-2\" class=\"sk-toggleable__label sk-toggleable__label-arrow\">DecisionTreeClassifier</label><div class=\"sk-toggleable__content\"><pre>DecisionTreeClassifier()</pre></div></div></div></div></div>"
      ],
      "text/plain": [
       "DecisionTreeClassifier()"
      ]
     },
     "execution_count": 32,
     "metadata": {},
     "output_type": "execute_result"
    }
   ],
   "source": [
    "print((\"_\")*120)\n",
    "print(\"\\t\\t\\t\\t******************ANALYSIS******************\\n\\n\\t\\t\\tBy using Decision Tree we get a accuracy of 98% which is good enough\\n\\t\\tLets see if we can increase this accuracy by hyper tuning \")\n",
    "print((\"_\")*120)\n",
    "\n",
    "mymodel(dt)"
   ]
  },
  {
   "cell_type": "code",
   "execution_count": 33,
   "id": "923fea7c",
   "metadata": {
    "scrolled": true
   },
   "outputs": [
    {
     "data": {
      "image/png": "[encoded data removed]",
      "text/plain": [
       "<Figure size 2500x1000 with 1 Axes>"
      ]
     },
     "metadata": {},
     "output_type": "display_data"
    }
   ],
   "source": [
    "fig,ax=plt.subplots(figsize=(25,10))\n",
    "chart=tree.plot_tree(dt,feature_names=x,filled=True,fontsize=10)\n",
    "plt.savefig('Drug.jpg')"
   ]
  },
  {
   "cell_type": "code",
   "execution_count": 34,
   "id": "8dc67769",
   "metadata": {},
   "outputs": [
    {
     "name": "stdout",
     "output_type": "stream",
     "text": [
      "train score :1.0 \n",
      " test score : 0.98\n"
     ]
    }
   ],
   "source": [
    "train = dt.score(xtrain,ytrain)\n",
    "test = dt.score(xtest,ytest)\n",
    "print(f\"train score :{train} \\n test score : {test}\")"
   ]
  },
  {
   "cell_type": "markdown",
   "id": "43454df7",
   "metadata": {},
   "source": [
    "#### train acc is high and test acc is low\n"
   ]
  },
  {
   "cell_type": "markdown",
   "id": "4303e8cb",
   "metadata": {},
   "source": [
    "#### low bias high varience"
   ]
  },
  {
   "cell_type": "markdown",
   "id": "ba5793a9",
   "metadata": {},
   "source": [
    "### 2.1 - HTP's of DecisionTree"
   ]
  },
  {
   "cell_type": "markdown",
   "id": "a141a0b7",
   "metadata": {},
   "source": [
    "### i - Max Depth"
   ]
  },
  {
   "cell_type": "code",
   "execution_count": 35,
   "id": "4a63cb55",
   "metadata": {},
   "outputs": [
    {
     "name": "stdout",
     "output_type": "stream",
     "text": [
      "max_depth = 1 accuracy : 0.72\n",
      "max_depth = 2 accuracy : 0.8\n",
      "max_depth = 3 accuracy : 0.9\n",
      "max_depth = 4 accuracy : 0.98\n",
      "max_depth = 5 accuracy : 0.98\n",
      "max_depth = 6 accuracy : 0.98\n",
      "max_depth = 7 accuracy : 0.98\n",
      "max_depth = 8 accuracy : 0.98\n",
      "max_depth = 9 accuracy : 0.98\n"
     ]
    }
   ],
   "source": [
    "for i in range(1,10):\n",
    "    dt1 = DecisionTreeClassifier(max_depth = i)\n",
    "    dt1.fit(xtrain,ytrain)\n",
    "    ypred = dt1.predict(xtest)\n",
    "    ac = accuracy_score(ytest,ypred)\n",
    "    print(f\"max_depth = {i} accuracy : {ac}\")"
   ]
  },
  {
   "cell_type": "code",
   "execution_count": 36,
   "id": "7f905752",
   "metadata": {
    "scrolled": true
   },
   "outputs": [
    {
     "name": "stdout",
     "output_type": "stream",
     "text": [
      "________________________________________________________________________________________________________________________\n",
      "\t\t\t\t******************ANALYSIS******************\n",
      "\n",
      "\t\t\tBy using Max Depth we get a accuracy of 80% which is not good enough. \n",
      "\t\t\t as it Dropped down from 98%\n",
      "________________________________________________________________________________________________________________________\n",
      "0.8\n",
      "              precision    recall  f1-score   support\n",
      "\n",
      "           0       1.00      0.95      0.98        21\n",
      "           1       0.44      1.00      0.62         4\n",
      "           2       0.00      0.00      0.00         5\n",
      "           3       0.00      0.00      0.00         4\n",
      "           4       0.76      1.00      0.86        16\n",
      "\n",
      "    accuracy                           0.80        50\n",
      "   macro avg       0.44      0.59      0.49        50\n",
      "weighted avg       0.70      0.80      0.74        50\n",
      "\n"
     ]
    },
    {
     "data": {
      "text/html": [
       "<style>#sk-container-id-3 {color: black;}#sk-container-id-3 pre{padding: 0;}#sk-container-id-3 div.sk-toggleable {background-color: white;}#sk-container-id-3 label.sk-toggleable__label {cursor: pointer;display: block;width: 100%;margin-bottom: 0;padding: 0.3em;box-sizing: border-box;text-align: center;}#sk-container-id-3 label.sk-toggleable__label-arrow:before {content: \"▸\";float: left;margin-right: 0.25em;color: #696969;}#sk-container-id-3 label.sk-toggleable__label-arrow:hover:before {color: black;}#sk-container-id-3 div.sk-estimator:hover label.sk-toggleable__label-arrow:before {color: black;}#sk-container-id-3 div.sk-toggleable__content {max-height: 0;max-width: 0;overflow: hidden;text-align: left;background-color: #f0f8ff;}#sk-container-id-3 div.sk-toggleable__content pre {margin: 0.2em;color: black;border-radius: 0.25em;background-color: #f0f8ff;}#sk-container-id-3 input.sk-toggleable__control:checked~div.sk-toggleable__content {max-height: 200px;max-width: 100%;overflow: auto;}#sk-container-id-3 input.sk-toggleable__control:checked~label.sk-toggleable__label-arrow:before {content: \"▾\";}#sk-container-id-3 div.sk-estimator input.sk-toggleable__control:checked~label.sk-toggleable__label {background-color: #d4ebff;}#sk-container-id-3 div.sk-label input.sk-toggleable__control:checked~label.sk-toggleable__label {background-color: #d4ebff;}#sk-container-id-3 input.sk-hidden--visually {border: 0;clip: rect(1px 1px 1px 1px);clip: rect(1px, 1px, 1px, 1px);height: 1px;margin: -1px;overflow: hidden;padding: 0;position: absolute;width: 1px;}#sk-container-id-3 div.sk-estimator {font-family: monospace;background-color: #f0f8ff;border: 1px dotted black;border-radius: 0.25em;box-sizing: border-box;margin-bottom: 0.5em;}#sk-container-id-3 div.sk-estimator:hover {background-color: #d4ebff;}#sk-container-id-3 div.sk-parallel-item::after {content: \"\";width: 100%;border-bottom: 1px solid gray;flex-grow: 1;}#sk-container-id-3 div.sk-label:hover label.sk-toggleable__label {background-color: #d4ebff;}#sk-container-id-3 div.sk-serial::before {content: \"\";position: absolute;border-left: 1px solid gray;box-sizing: border-box;top: 0;bottom: 0;left: 50%;z-index: 0;}#sk-container-id-3 div.sk-serial {display: flex;flex-direction: column;align-items: center;background-color: white;padding-right: 0.2em;padding-left: 0.2em;position: relative;}#sk-container-id-3 div.sk-item {position: relative;z-index: 1;}#sk-container-id-3 div.sk-parallel {display: flex;align-items: stretch;justify-content: center;background-color: white;position: relative;}#sk-container-id-3 div.sk-item::before, #sk-container-id-3 div.sk-parallel-item::before {content: \"\";position: absolute;border-left: 1px solid gray;box-sizing: border-box;top: 0;bottom: 0;left: 50%;z-index: -1;}#sk-container-id-3 div.sk-parallel-item {display: flex;flex-direction: column;z-index: 1;position: relative;background-color: white;}#sk-container-id-3 div.sk-parallel-item:first-child::after {align-self: flex-end;width: 50%;}#sk-container-id-3 div.sk-parallel-item:last-child::after {align-self: flex-start;width: 50%;}#sk-container-id-3 div.sk-parallel-item:only-child::after {width: 0;}#sk-container-id-3 div.sk-dashed-wrapped {border: 1px dashed gray;margin: 0 0.4em 0.5em 0.4em;box-sizing: border-box;padding-bottom: 0.4em;background-color: white;}#sk-container-id-3 div.sk-label label {font-family: monospace;font-weight: bold;display: inline-block;line-height: 1.2em;}#sk-container-id-3 div.sk-label-container {text-align: center;}#sk-container-id-3 div.sk-container {/* jupyter's `normalize.less` sets `[hidden] { display: none; }` but bootstrap.min.css set `[hidden] { display: none !important; }` so we also need the `!important` here to be able to override the default hidden behavior on the sphinx rendered scikit-learn.org. See: https://github.com/scikit-learn/scikit-learn/issues/21755 */display: inline-block !important;position: relative;}#sk-container-id-3 div.sk-text-repr-fallback {display: none;}</style><div id=\"sk-container-id-3\" class=\"sk-top-container\"><div class=\"sk-text-repr-fallback\"><pre>DecisionTreeClassifier(max_depth=2)</pre><b>In a Jupyter environment, please rerun this cell to show the HTML representation or trust the notebook. <br />On GitHub, the HTML representation is unable to render, please try loading this page with nbviewer.org.</b></div><div class=\"sk-container\" hidden><div class=\"sk-item\"><div class=\"sk-estimator sk-toggleable\"><input class=\"sk-toggleable__control sk-hidden--visually\" id=\"sk-estimator-id-3\" type=\"checkbox\" checked><label for=\"sk-estimator-id-3\" class=\"sk-toggleable__label sk-toggleable__label-arrow\">DecisionTreeClassifier</label><div class=\"sk-toggleable__content\"><pre>DecisionTreeClassifier(max_depth=2)</pre></div></div></div></div></div>"
      ],
      "text/plain": [
       "DecisionTreeClassifier(max_depth=2)"
      ]
     },
     "execution_count": 36,
     "metadata": {},
     "output_type": "execute_result"
    }
   ],
   "source": [
    "print((\"_\")*120)\n",
    "print(\"\\t\\t\\t\\t******************ANALYSIS******************\\n\\n\\t\\t\\tBy using Max Depth we get a accuracy of 80% which is not good enough. \\n\\t\\t\\t as it Dropped down from 98%\")\n",
    "print((\"_\")*120)\n",
    "\n",
    "dt2 = DecisionTreeClassifier(max_depth = 2)\n",
    "mymodel(dt2)"
   ]
  },
  {
   "cell_type": "code",
   "execution_count": 37,
   "id": "ed0703fe-bd1f-4149-a97c-5745d2107268",
   "metadata": {},
   "outputs": [
    {
     "name": "stdout",
     "output_type": "stream",
     "text": [
      "train score :0.8466666666666667 \n",
      " test score : 0.8\n"
     ]
    }
   ],
   "source": [
    "train = dt2.score(xtrain,ytrain)\n",
    "test = dt2.score(xtest,ytest)\n",
    "print(f\"train score :{train} \\n test score : {test}\")"
   ]
  },
  {
   "cell_type": "markdown",
   "id": "27374c12",
   "metadata": {},
   "source": [
    "### ii - min_sample_split"
   ]
  },
  {
   "cell_type": "code",
   "execution_count": 38,
   "id": "dfa07c37",
   "metadata": {},
   "outputs": [
    {
     "name": "stdout",
     "output_type": "stream",
     "text": [
      "max_depth = 2 accuracy : 0.98\n",
      "max_depth = 3 accuracy : 0.98\n",
      "max_depth = 4 accuracy : 0.98\n",
      "max_depth = 5 accuracy : 0.98\n",
      "max_depth = 6 accuracy : 0.98\n",
      "max_depth = 7 accuracy : 0.98\n",
      "max_depth = 8 accuracy : 0.98\n",
      "max_depth = 9 accuracy : 0.98\n",
      "max_depth = 10 accuracy : 0.98\n",
      "max_depth = 11 accuracy : 0.98\n",
      "max_depth = 12 accuracy : 0.98\n",
      "max_depth = 13 accuracy : 0.98\n",
      "max_depth = 14 accuracy : 0.98\n",
      "max_depth = 15 accuracy : 0.98\n",
      "max_depth = 16 accuracy : 0.98\n",
      "max_depth = 17 accuracy : 0.98\n",
      "max_depth = 18 accuracy : 0.98\n",
      "max_depth = 19 accuracy : 0.98\n",
      "max_depth = 20 accuracy : 0.98\n",
      "max_depth = 21 accuracy : 0.98\n",
      "max_depth = 22 accuracy : 0.98\n",
      "max_depth = 23 accuracy : 0.98\n",
      "max_depth = 24 accuracy : 0.98\n",
      "max_depth = 25 accuracy : 0.98\n",
      "max_depth = 26 accuracy : 0.98\n",
      "max_depth = 27 accuracy : 0.9\n",
      "max_depth = 28 accuracy : 0.9\n",
      "max_depth = 29 accuracy : 0.9\n",
      "max_depth = 30 accuracy : 0.9\n",
      "max_depth = 31 accuracy : 0.8\n",
      "max_depth = 32 accuracy : 0.8\n",
      "max_depth = 33 accuracy : 0.8\n",
      "max_depth = 34 accuracy : 0.8\n",
      "max_depth = 35 accuracy : 0.8\n",
      "max_depth = 36 accuracy : 0.8\n",
      "max_depth = 37 accuracy : 0.8\n",
      "max_depth = 38 accuracy : 0.8\n",
      "max_depth = 39 accuracy : 0.8\n",
      "max_depth = 40 accuracy : 0.8\n",
      "max_depth = 41 accuracy : 0.8\n",
      "max_depth = 42 accuracy : 0.8\n",
      "max_depth = 43 accuracy : 0.8\n",
      "max_depth = 44 accuracy : 0.8\n",
      "max_depth = 45 accuracy : 0.8\n",
      "max_depth = 46 accuracy : 0.8\n",
      "max_depth = 47 accuracy : 0.8\n",
      "max_depth = 48 accuracy : 0.8\n",
      "max_depth = 49 accuracy : 0.8\n",
      "max_depth = 50 accuracy : 0.8\n",
      "max_depth = 51 accuracy : 0.8\n",
      "max_depth = 52 accuracy : 0.8\n",
      "max_depth = 53 accuracy : 0.8\n",
      "max_depth = 54 accuracy : 0.8\n",
      "max_depth = 55 accuracy : 0.8\n",
      "max_depth = 56 accuracy : 0.8\n",
      "max_depth = 57 accuracy : 0.8\n",
      "max_depth = 58 accuracy : 0.8\n",
      "max_depth = 59 accuracy : 0.8\n",
      "max_depth = 60 accuracy : 0.8\n",
      "max_depth = 61 accuracy : 0.8\n",
      "max_depth = 62 accuracy : 0.8\n",
      "max_depth = 63 accuracy : 0.8\n",
      "max_depth = 64 accuracy : 0.8\n",
      "max_depth = 65 accuracy : 0.8\n",
      "max_depth = 66 accuracy : 0.8\n",
      "max_depth = 67 accuracy : 0.8\n",
      "max_depth = 68 accuracy : 0.8\n",
      "max_depth = 69 accuracy : 0.8\n",
      "max_depth = 70 accuracy : 0.8\n",
      "max_depth = 71 accuracy : 0.8\n",
      "max_depth = 72 accuracy : 0.8\n",
      "max_depth = 73 accuracy : 0.8\n",
      "max_depth = 74 accuracy : 0.8\n",
      "max_depth = 75 accuracy : 0.8\n",
      "max_depth = 76 accuracy : 0.8\n",
      "max_depth = 77 accuracy : 0.8\n",
      "max_depth = 78 accuracy : 0.8\n",
      "max_depth = 79 accuracy : 0.8\n",
      "max_depth = 80 accuracy : 0.8\n",
      "max_depth = 81 accuracy : 0.72\n",
      "max_depth = 82 accuracy : 0.72\n",
      "max_depth = 83 accuracy : 0.72\n",
      "max_depth = 84 accuracy : 0.72\n",
      "max_depth = 85 accuracy : 0.72\n",
      "max_depth = 86 accuracy : 0.72\n",
      "max_depth = 87 accuracy : 0.72\n",
      "max_depth = 88 accuracy : 0.72\n",
      "max_depth = 89 accuracy : 0.72\n",
      "max_depth = 90 accuracy : 0.72\n",
      "max_depth = 91 accuracy : 0.72\n",
      "max_depth = 92 accuracy : 0.72\n",
      "max_depth = 93 accuracy : 0.72\n",
      "max_depth = 94 accuracy : 0.72\n",
      "max_depth = 95 accuracy : 0.72\n",
      "max_depth = 96 accuracy : 0.72\n",
      "max_depth = 97 accuracy : 0.72\n",
      "max_depth = 98 accuracy : 0.72\n",
      "max_depth = 99 accuracy : 0.72\n",
      "max_depth = 100 accuracy : 0.72\n",
      "max_depth = 101 accuracy : 0.72\n",
      "max_depth = 102 accuracy : 0.72\n",
      "max_depth = 103 accuracy : 0.72\n",
      "max_depth = 104 accuracy : 0.72\n",
      "max_depth = 105 accuracy : 0.72\n",
      "max_depth = 106 accuracy : 0.72\n",
      "max_depth = 107 accuracy : 0.72\n",
      "max_depth = 108 accuracy : 0.72\n",
      "max_depth = 109 accuracy : 0.72\n"
     ]
    }
   ],
   "source": [
    "for i in range(2,110):\n",
    "    dt3 = DecisionTreeClassifier(min_samples_split = i)\n",
    "    dt3.fit(xtrain,ytrain)\n",
    "    ypred = dt3.predict(xtest)\n",
    "    ac = accuracy_score(ytest,ypred)\n",
    "    print(f\"max_depth = {i} accuracy : {ac}\")"
   ]
  },
  {
   "cell_type": "code",
   "execution_count": 39,
   "id": "40606332",
   "metadata": {},
   "outputs": [
    {
     "name": "stdout",
     "output_type": "stream",
     "text": [
      "________________________________________________________________________________________________________________________\n",
      "\t\t\t\t******************ANALYSIS******************\n",
      "\n",
      "\t\t\tBy using Min_Sample_Split we get a accuracy of 90% which is not good enough\n",
      "________________________________________________________________________________________________________________________\n",
      "0.9\n",
      "              precision    recall  f1-score   support\n",
      "\n",
      "           0       1.00      0.95      0.98        21\n",
      "           1       1.00      1.00      1.00         4\n",
      "           2       1.00      1.00      1.00         5\n",
      "           3       0.00      0.00      0.00         4\n",
      "           4       0.76      1.00      0.86        16\n",
      "\n",
      "    accuracy                           0.90        50\n",
      "   macro avg       0.75      0.79      0.77        50\n",
      "weighted avg       0.84      0.90      0.87        50\n",
      "\n"
     ]
    },
    {
     "data": {
      "text/html": [
       "<style>#sk-container-id-4 {color: black;}#sk-container-id-4 pre{padding: 0;}#sk-container-id-4 div.sk-toggleable {background-color: white;}#sk-container-id-4 label.sk-toggleable__label {cursor: pointer;display: block;width: 100%;margin-bottom: 0;padding: 0.3em;box-sizing: border-box;text-align: center;}#sk-container-id-4 label.sk-toggleable__label-arrow:before {content: \"▸\";float: left;margin-right: 0.25em;color: #696969;}#sk-container-id-4 label.sk-toggleable__label-arrow:hover:before {color: black;}#sk-container-id-4 div.sk-estimator:hover label.sk-toggleable__label-arrow:before {color: black;}#sk-container-id-4 div.sk-toggleable__content {max-height: 0;max-width: 0;overflow: hidden;text-align: left;background-color: #f0f8ff;}#sk-container-id-4 div.sk-toggleable__content pre {margin: 0.2em;color: black;border-radius: 0.25em;background-color: #f0f8ff;}#sk-container-id-4 input.sk-toggleable__control:checked~div.sk-toggleable__content {max-height: 200px;max-width: 100%;overflow: auto;}#sk-container-id-4 input.sk-toggleable__control:checked~label.sk-toggleable__label-arrow:before {content: \"▾\";}#sk-container-id-4 div.sk-estimator input.sk-toggleable__control:checked~label.sk-toggleable__label {background-color: #d4ebff;}#sk-container-id-4 div.sk-label input.sk-toggleable__control:checked~label.sk-toggleable__label {background-color: #d4ebff;}#sk-container-id-4 input.sk-hidden--visually {border: 0;clip: rect(1px 1px 1px 1px);clip: rect(1px, 1px, 1px, 1px);height: 1px;margin: -1px;overflow: hidden;padding: 0;position: absolute;width: 1px;}#sk-container-id-4 div.sk-estimator {font-family: monospace;background-color: #f0f8ff;border: 1px dotted black;border-radius: 0.25em;box-sizing: border-box;margin-bottom: 0.5em;}#sk-container-id-4 div.sk-estimator:hover {background-color: #d4ebff;}#sk-container-id-4 div.sk-parallel-item::after {content: \"\";width: 100%;border-bottom: 1px solid gray;flex-grow: 1;}#sk-container-id-4 div.sk-label:hover label.sk-toggleable__label {background-color: #d4ebff;}#sk-container-id-4 div.sk-serial::before {content: \"\";position: absolute;border-left: 1px solid gray;box-sizing: border-box;top: 0;bottom: 0;left: 50%;z-index: 0;}#sk-container-id-4 div.sk-serial {display: flex;flex-direction: column;align-items: center;background-color: white;padding-right: 0.2em;padding-left: 0.2em;position: relative;}#sk-container-id-4 div.sk-item {position: relative;z-index: 1;}#sk-container-id-4 div.sk-parallel {display: flex;align-items: stretch;justify-content: center;background-color: white;position: relative;}#sk-container-id-4 div.sk-item::before, #sk-container-id-4 div.sk-parallel-item::before {content: \"\";position: absolute;border-left: 1px solid gray;box-sizing: border-box;top: 0;bottom: 0;left: 50%;z-index: -1;}#sk-container-id-4 div.sk-parallel-item {display: flex;flex-direction: column;z-index: 1;position: relative;background-color: white;}#sk-container-id-4 div.sk-parallel-item:first-child::after {align-self: flex-end;width: 50%;}#sk-container-id-4 div.sk-parallel-item:last-child::after {align-self: flex-start;width: 50%;}#sk-container-id-4 div.sk-parallel-item:only-child::after {width: 0;}#sk-container-id-4 div.sk-dashed-wrapped {border: 1px dashed gray;margin: 0 0.4em 0.5em 0.4em;box-sizing: border-box;padding-bottom: 0.4em;background-color: white;}#sk-container-id-4 div.sk-label label {font-family: monospace;font-weight: bold;display: inline-block;line-height: 1.2em;}#sk-container-id-4 div.sk-label-container {text-align: center;}#sk-container-id-4 div.sk-container {/* jupyter's `normalize.less` sets `[hidden] { display: none; }` but bootstrap.min.css set `[hidden] { display: none !important; }` so we also need the `!important` here to be able to override the default hidden behavior on the sphinx rendered scikit-learn.org. See: https://github.com/scikit-learn/scikit-learn/issues/21755 */display: inline-block !important;position: relative;}#sk-container-id-4 div.sk-text-repr-fallback {display: none;}</style><div id=\"sk-container-id-4\" class=\"sk-top-container\"><div class=\"sk-text-repr-fallback\"><pre>DecisionTreeClassifier(min_samples_split=27)</pre><b>In a Jupyter environment, please rerun this cell to show the HTML representation or trust the notebook. <br />On GitHub, the HTML representation is unable to render, please try loading this page with nbviewer.org.</b></div><div class=\"sk-container\" hidden><div class=\"sk-item\"><div class=\"sk-estimator sk-toggleable\"><input class=\"sk-toggleable__control sk-hidden--visually\" id=\"sk-estimator-id-4\" type=\"checkbox\" checked><label for=\"sk-estimator-id-4\" class=\"sk-toggleable__label sk-toggleable__label-arrow\">DecisionTreeClassifier</label><div class=\"sk-toggleable__content\"><pre>DecisionTreeClassifier(min_samples_split=27)</pre></div></div></div></div></div>"
      ],
      "text/plain": [
       "DecisionTreeClassifier(min_samples_split=27)"
      ]
     },
     "execution_count": 39,
     "metadata": {},
     "output_type": "execute_result"
    }
   ],
   "source": [
    "print((\"_\")*120)\n",
    "print(\"\\t\\t\\t\\t******************ANALYSIS******************\\n\\n\\t\\t\\tBy using Min_Sample_Split we get a accuracy of 90% which is not good enough\")\n",
    "print((\"_\")*120)\n",
    "\n",
    "dt4 = DecisionTreeClassifier(min_samples_split = 27)\n",
    "mymodel(dt4)"
   ]
  },
  {
   "cell_type": "code",
   "execution_count": 40,
   "id": "0480028a-51e4-4900-9aa0-95dc4f6bfc40",
   "metadata": {},
   "outputs": [
    {
     "name": "stdout",
     "output_type": "stream",
     "text": [
      "train score :0.92 \n",
      " test score : 0.9\n"
     ]
    }
   ],
   "source": [
    "train = dt4.score(xtrain,ytrain)\n",
    "test = dt4.score(xtest,ytest)\n",
    "print(f\"train score :{train} \\n test score : {test}\")"
   ]
  },
  {
   "cell_type": "markdown",
   "id": "7cd9c523",
   "metadata": {},
   "source": [
    "### iii - min_samples_leaf"
   ]
  },
  {
   "cell_type": "code",
   "execution_count": 41,
   "id": "a730b59b",
   "metadata": {},
   "outputs": [
    {
     "name": "stdout",
     "output_type": "stream",
     "text": [
      "max_depth = 30 accuracy : 0.8\n",
      "max_depth = 31 accuracy : 0.72\n",
      "max_depth = 32 accuracy : 0.72\n",
      "max_depth = 33 accuracy : 0.72\n",
      "max_depth = 34 accuracy : 0.72\n",
      "max_depth = 35 accuracy : 0.72\n",
      "max_depth = 36 accuracy : 0.72\n",
      "max_depth = 37 accuracy : 0.72\n",
      "max_depth = 38 accuracy : 0.72\n",
      "max_depth = 39 accuracy : 0.72\n",
      "max_depth = 40 accuracy : 0.72\n",
      "max_depth = 41 accuracy : 0.72\n",
      "max_depth = 42 accuracy : 0.72\n",
      "max_depth = 43 accuracy : 0.72\n",
      "max_depth = 44 accuracy : 0.72\n",
      "max_depth = 45 accuracy : 0.72\n",
      "max_depth = 46 accuracy : 0.72\n",
      "max_depth = 47 accuracy : 0.72\n",
      "max_depth = 48 accuracy : 0.72\n",
      "max_depth = 49 accuracy : 0.72\n"
     ]
    }
   ],
   "source": [
    "\n",
    "for i in range(30,50):\n",
    "    dt5 = DecisionTreeClassifier(min_samples_leaf = i)\n",
    "    dt5.fit(xtrain,ytrain)\n",
    "    ypred = dt5.predict(xtest)\n",
    "    ac = accuracy_score(ytest,ypred)\n",
    "    print(f\"max_depth = {i} accuracy : {ac}\")"
   ]
  },
  {
   "cell_type": "code",
   "execution_count": 42,
   "id": "e18042a6",
   "metadata": {},
   "outputs": [
    {
     "name": "stdout",
     "output_type": "stream",
     "text": [
      "________________________________________________________________________________________________________________________\n",
      "\t\t\t\t******************ANALYSIS******************\n",
      "\n",
      "\t\t\tBy using Min_Sample_leaf we get a accuracy of 72% which is not good enough\n",
      "________________________________________________________________________________________________________________________\n",
      "0.72\n",
      "              precision    recall  f1-score   support\n",
      "\n",
      "           0       1.00      0.95      0.98        21\n",
      "           1       0.00      0.00      0.00         4\n",
      "           2       0.00      0.00      0.00         5\n",
      "           3       0.00      0.00      0.00         4\n",
      "           4       0.53      1.00      0.70        16\n",
      "\n",
      "    accuracy                           0.72        50\n",
      "   macro avg       0.31      0.39      0.33        50\n",
      "weighted avg       0.59      0.72      0.63        50\n",
      "\n"
     ]
    },
    {
     "data": {
      "text/html": [
       "<style>#sk-container-id-5 {color: black;}#sk-container-id-5 pre{padding: 0;}#sk-container-id-5 div.sk-toggleable {background-color: white;}#sk-container-id-5 label.sk-toggleable__label {cursor: pointer;display: block;width: 100%;margin-bottom: 0;padding: 0.3em;box-sizing: border-box;text-align: center;}#sk-container-id-5 label.sk-toggleable__label-arrow:before {content: \"▸\";float: left;margin-right: 0.25em;color: #696969;}#sk-container-id-5 label.sk-toggleable__label-arrow:hover:before {color: black;}#sk-container-id-5 div.sk-estimator:hover label.sk-toggleable__label-arrow:before {color: black;}#sk-container-id-5 div.sk-toggleable__content {max-height: 0;max-width: 0;overflow: hidden;text-align: left;background-color: #f0f8ff;}#sk-container-id-5 div.sk-toggleable__content pre {margin: 0.2em;color: black;border-radius: 0.25em;background-color: #f0f8ff;}#sk-container-id-5 input.sk-toggleable__control:checked~div.sk-toggleable__content {max-height: 200px;max-width: 100%;overflow: auto;}#sk-container-id-5 input.sk-toggleable__control:checked~label.sk-toggleable__label-arrow:before {content: \"▾\";}#sk-container-id-5 div.sk-estimator input.sk-toggleable__control:checked~label.sk-toggleable__label {background-color: #d4ebff;}#sk-container-id-5 div.sk-label input.sk-toggleable__control:checked~label.sk-toggleable__label {background-color: #d4ebff;}#sk-container-id-5 input.sk-hidden--visually {border: 0;clip: rect(1px 1px 1px 1px);clip: rect(1px, 1px, 1px, 1px);height: 1px;margin: -1px;overflow: hidden;padding: 0;position: absolute;width: 1px;}#sk-container-id-5 div.sk-estimator {font-family: monospace;background-color: #f0f8ff;border: 1px dotted black;border-radius: 0.25em;box-sizing: border-box;margin-bottom: 0.5em;}#sk-container-id-5 div.sk-estimator:hover {background-color: #d4ebff;}#sk-container-id-5 div.sk-parallel-item::after {content: \"\";width: 100%;border-bottom: 1px solid gray;flex-grow: 1;}#sk-container-id-5 div.sk-label:hover label.sk-toggleable__label {background-color: #d4ebff;}#sk-container-id-5 div.sk-serial::before {content: \"\";position: absolute;border-left: 1px solid gray;box-sizing: border-box;top: 0;bottom: 0;left: 50%;z-index: 0;}#sk-container-id-5 div.sk-serial {display: flex;flex-direction: column;align-items: center;background-color: white;padding-right: 0.2em;padding-left: 0.2em;position: relative;}#sk-container-id-5 div.sk-item {position: relative;z-index: 1;}#sk-container-id-5 div.sk-parallel {display: flex;align-items: stretch;justify-content: center;background-color: white;position: relative;}#sk-container-id-5 div.sk-item::before, #sk-container-id-5 div.sk-parallel-item::before {content: \"\";position: absolute;border-left: 1px solid gray;box-sizing: border-box;top: 0;bottom: 0;left: 50%;z-index: -1;}#sk-container-id-5 div.sk-parallel-item {display: flex;flex-direction: column;z-index: 1;position: relative;background-color: white;}#sk-container-id-5 div.sk-parallel-item:first-child::after {align-self: flex-end;width: 50%;}#sk-container-id-5 div.sk-parallel-item:last-child::after {align-self: flex-start;width: 50%;}#sk-container-id-5 div.sk-parallel-item:only-child::after {width: 0;}#sk-container-id-5 div.sk-dashed-wrapped {border: 1px dashed gray;margin: 0 0.4em 0.5em 0.4em;box-sizing: border-box;padding-bottom: 0.4em;background-color: white;}#sk-container-id-5 div.sk-label label {font-family: monospace;font-weight: bold;display: inline-block;line-height: 1.2em;}#sk-container-id-5 div.sk-label-container {text-align: center;}#sk-container-id-5 div.sk-container {/* jupyter's `normalize.less` sets `[hidden] { display: none; }` but bootstrap.min.css set `[hidden] { display: none !important; }` so we also need the `!important` here to be able to override the default hidden behavior on the sphinx rendered scikit-learn.org. See: https://github.com/scikit-learn/scikit-learn/issues/21755 */display: inline-block !important;position: relative;}#sk-container-id-5 div.sk-text-repr-fallback {display: none;}</style><div id=\"sk-container-id-5\" class=\"sk-top-container\"><div class=\"sk-text-repr-fallback\"><pre>DecisionTreeClassifier(min_samples_leaf=31)</pre><b>In a Jupyter environment, please rerun this cell to show the HTML representation or trust the notebook. <br />On GitHub, the HTML representation is unable to render, please try loading this page with nbviewer.org.</b></div><div class=\"sk-container\" hidden><div class=\"sk-item\"><div class=\"sk-estimator sk-toggleable\"><input class=\"sk-toggleable__control sk-hidden--visually\" id=\"sk-estimator-id-5\" type=\"checkbox\" checked><label for=\"sk-estimator-id-5\" class=\"sk-toggleable__label sk-toggleable__label-arrow\">DecisionTreeClassifier</label><div class=\"sk-toggleable__content\"><pre>DecisionTreeClassifier(min_samples_leaf=31)</pre></div></div></div></div></div>"
      ],
      "text/plain": [
       "DecisionTreeClassifier(min_samples_leaf=31)"
      ]
     },
     "execution_count": 42,
     "metadata": {},
     "output_type": "execute_result"
    }
   ],
   "source": [
    "print((\"_\")*120)\n",
    "print(\"\\t\\t\\t\\t******************ANALYSIS******************\\n\\n\\t\\t\\tBy using Min_Sample_leaf we get a accuracy of 72% which is not good enough\")\n",
    "print((\"_\")*120)\n",
    "dt6 = DecisionTreeClassifier(min_samples_leaf = 31)\n",
    "mymodel(dt6)"
   ]
  },
  {
   "cell_type": "code",
   "execution_count": 43,
   "id": "b4393946",
   "metadata": {},
   "outputs": [
    {
     "name": "stdout",
     "output_type": "stream",
     "text": [
      "train score :0.72 \n",
      " test score : 0.72\n"
     ]
    }
   ],
   "source": [
    "train = dt6.score(xtrain,ytrain)\n",
    "test = dt6.score(xtest,ytest)\n",
    "print(f\"train score :{train} \\n test score : {test}\")"
   ]
  },
  {
   "cell_type": "markdown",
   "id": "9be39036",
   "metadata": {},
   "source": [
    "### 4 - Predicting the data using Random Forest"
   ]
  },
  {
   "cell_type": "code",
   "execution_count": 44,
   "id": "4ab8e5f1",
   "metadata": {},
   "outputs": [
    {
     "name": "stdout",
     "output_type": "stream",
     "text": [
      "________________________________________________________________________________________________________________________\n",
      "\t\t\t\t******************ANALYSIS******************\n",
      "\n",
      "\t\t\t\tBy using Random Forest we get accuracy of 98% again that's good enough.\n",
      "________________________________________________________________________________________________________________________\n",
      "              precision    recall  f1-score   support\n",
      "\n",
      "           0       1.00      1.00      1.00        21\n",
      "           1       1.00      1.00      1.00         4\n",
      "           2       1.00      1.00      1.00         5\n",
      "           3       1.00      0.75      0.86         4\n",
      "           4       0.94      1.00      0.97        16\n",
      "\n",
      "    accuracy                           0.98        50\n",
      "   macro avg       0.99      0.95      0.97        50\n",
      "weighted avg       0.98      0.98      0.98        50\n",
      "\n"
     ]
    }
   ],
   "source": [
    "print((\"_\")*120)\n",
    "print(\"\\t\\t\\t\\t******************ANALYSIS******************\\n\\n\\t\\t\\t\\tBy using Random Forest we get accuracy of 98% again that's good enough.\")\n",
    "print((\"_\")*120)\n",
    "rc = RandomForestClassifier()\n",
    "rc.fit(xtrain,ytrain)\n",
    "ypred = rc.predict(xtest)\n",
    "print(classification_report(ytest,ypred))"
   ]
  },
  {
   "cell_type": "markdown",
   "id": "327daedd",
   "metadata": {},
   "source": [
    "### 5 - Predicting the data using Boosting"
   ]
  },
  {
   "cell_type": "markdown",
   "id": "3b620aaf",
   "metadata": {},
   "source": [
    "### i - Adaboost Classifier"
   ]
  },
  {
   "cell_type": "code",
   "execution_count": 45,
   "id": "dcb15638",
   "metadata": {},
   "outputs": [
    {
     "name": "stdout",
     "output_type": "stream",
     "text": [
      "________________________________________________________________________________________________________________________\n",
      "\t\t\t\t******************ANALYSIS******************\n",
      "\n",
      "\t\t\tBy using ADA Boost we get accuracy of 80% again that's not good enough.\n",
      "\t\t\t as it fell down from 98% again\n",
      "________________________________________________________________________________________________________________________\n",
      "              precision    recall  f1-score   support\n",
      "\n",
      "           0       1.00      0.95      0.98        21\n",
      "           1       0.44      1.00      0.62         4\n",
      "           2       0.00      0.00      0.00         5\n",
      "           3       0.00      0.00      0.00         4\n",
      "           4       0.76      1.00      0.86        16\n",
      "\n",
      "    accuracy                           0.80        50\n",
      "   macro avg       0.44      0.59      0.49        50\n",
      "weighted avg       0.70      0.80      0.74        50\n",
      "\n"
     ]
    }
   ],
   "source": [
    "print((\"_\")*120)\n",
    "print(\"\\t\\t\\t\\t******************ANALYSIS******************\\n\\n\\t\\t\\tBy using ADA Boost we get accuracy of 80% again that's not good enough.\\n\\t\\t\\t as it fell down from 98% again\")\n",
    "print((\"_\")*120)\n",
    "from sklearn.ensemble import AdaBoostClassifier\n",
    "ada = AdaBoostClassifier()\n",
    "ada.fit(xtrain,ytrain)\n",
    "ypred = ada.predict(xtest)\n",
    "print(classification_report(ytest,ypred))"
   ]
  },
  {
   "cell_type": "markdown",
   "id": "aa445a0e",
   "metadata": {},
   "source": [
    "### ii - Gradient Boosting"
   ]
  },
  {
   "cell_type": "code",
   "execution_count": 46,
   "id": "f1526c62",
   "metadata": {},
   "outputs": [
    {
     "name": "stdout",
     "output_type": "stream",
     "text": [
      "________________________________________________________________________________________________________________________\n",
      "\t\t\t\t******************ANALYSIS******************\n",
      "\n",
      "\t\t\t\tBy using Gradient Boosting we get accuracy of 98% again that's good enough.\n",
      "________________________________________________________________________________________________________________________\n",
      "              precision    recall  f1-score   support\n",
      "\n",
      "           0       1.00      0.95      0.98        21\n",
      "           1       1.00      1.00      1.00         4\n",
      "           2       1.00      1.00      1.00         5\n",
      "           3       0.80      1.00      0.89         4\n",
      "           4       1.00      1.00      1.00        16\n",
      "\n",
      "    accuracy                           0.98        50\n",
      "   macro avg       0.96      0.99      0.97        50\n",
      "weighted avg       0.98      0.98      0.98        50\n",
      "\n"
     ]
    }
   ],
   "source": [
    "print((\"_\")*120)\n",
    "print(\"\\t\\t\\t\\t******************ANALYSIS******************\\n\\n\\t\\t\\t\\tBy using Gradient Boosting we get accuracy of 98% again that's good enough.\")\n",
    "print((\"_\")*120)\n",
    "from sklearn.ensemble import GradientBoostingClassifier\n",
    "gbc = GradientBoostingClassifier()\n",
    "gbc.fit(xtrain,ytrain)\n",
    "ypred = gbc.predict(xtest)\n",
    "print(classification_report(ytest,ypred))"
   ]
  },
  {
   "cell_type": "markdown",
   "id": "12f67937",
   "metadata": {},
   "source": [
    "### iii - XG Boosting"
   ]
  },
  {
   "cell_type": "code",
   "execution_count": 47,
   "id": "0f65e4b0",
   "metadata": {},
   "outputs": [
    {
     "name": "stdout",
     "output_type": "stream",
     "text": [
      "Defaulting to user installation because normal site-packages is not writeable\n",
      "Requirement already satisfied: xgboost in c:\\users\\manas\\appdata\\roaming\\python\\python311\\site-packages (2.0.1)\n",
      "Requirement already satisfied: numpy in c:\\users\\manas\\appdata\\roaming\\python\\python311\\site-packages (from xgboost) (1.26.1)\n",
      "Requirement already satisfied: scipy in c:\\users\\manas\\appdata\\roaming\\python\\python311\\site-packages (from xgboost) (1.11.3)\n",
      "Note: you may need to restart the kernel to use updated packages.\n"
     ]
    }
   ],
   "source": [
    "pip install xgboost"
   ]
  },
  {
   "cell_type": "code",
   "execution_count": null,
   "id": "e352e81e",
   "metadata": {},
   "outputs": [],
   "source": []
  },
  {
   "cell_type": "code",
   "execution_count": 48,
   "id": "478ad7fe",
   "metadata": {},
   "outputs": [
    {
     "name": "stdout",
     "output_type": "stream",
     "text": [
      "________________________________________________________________________________________________________________________\n",
      "\t\t\t\t******************ANALYSIS******************\n",
      "\n",
      "\t\t\t\tBy using XG Boosting we get accuracy of 98% again that's good enough.\n",
      "________________________________________________________________________________________________________________________\n",
      "              precision    recall  f1-score   support\n",
      "\n",
      "           0       1.00      0.95      0.98        21\n",
      "           1       1.00      1.00      1.00         4\n",
      "           2       1.00      1.00      1.00         5\n",
      "           3       0.80      1.00      0.89         4\n",
      "           4       1.00      1.00      1.00        16\n",
      "\n",
      "    accuracy                           0.98        50\n",
      "   macro avg       0.96      0.99      0.97        50\n",
      "weighted avg       0.98      0.98      0.98        50\n",
      "\n"
     ]
    }
   ],
   "source": [
    "print((\"_\")*120)\n",
    "print(\"\\t\\t\\t\\t******************ANALYSIS******************\\n\\n\\t\\t\\t\\tBy using XG Boosting we get accuracy of 98% again that's good enough.\")\n",
    "print((\"_\")*120)\n",
    "from xgboost import XGBClassifier\n",
    "xgb = XGBClassifier()\n",
    "xgb.fit(xtrain,ytrain)\n",
    "ypred = xgb.predict(xtest)\n",
    "print(classification_report(ytest,ypred))"
   ]
  },
  {
   "cell_type": "markdown",
   "id": "1d02c2d5",
   "metadata": {},
   "source": [
    "### 6. Predicting the data using Encemble Learning"
   ]
  },
  {
   "cell_type": "markdown",
   "id": "31849eb9",
   "metadata": {},
   "source": [
    "### i - Bagging"
   ]
  },
  {
   "cell_type": "code",
   "execution_count": 49,
   "id": "a8273df4",
   "metadata": {},
   "outputs": [
    {
     "name": "stdout",
     "output_type": "stream",
     "text": [
      "________________________________________________________________________________________________________________________\n",
      "\t\t\t\t******************ANALYSIS******************\n",
      "\n",
      "\t\t\tBy using Bagging(Logistic Regression) we get accuracy of 88% again that's not good enough.\n",
      "________________________________________________________________________________________________________________________\n",
      "              precision    recall  f1-score   support\n",
      "\n",
      "           0       0.91      1.00      0.95        21\n",
      "           1       1.00      0.75      0.86         4\n",
      "           2       0.62      1.00      0.77         5\n",
      "           3       0.00      0.00      0.00         4\n",
      "           4       0.94      0.94      0.94        16\n",
      "\n",
      "    accuracy                           0.88        50\n",
      "   macro avg       0.70      0.74      0.70        50\n",
      "weighted avg       0.83      0.88      0.85        50\n",
      "\n"
     ]
    }
   ],
   "source": [
    "print((\"_\")*120)\n",
    "print(\"\\t\\t\\t\\t******************ANALYSIS******************\\n\\n\\t\\t\\tBy using Bagging(Logistic Regression) we get accuracy of 88% again that's not good enough.\")\n",
    "print((\"_\")*120)\n",
    "from sklearn.ensemble import BaggingClassifier\n",
    "bg = BaggingClassifier(LogisticRegression())\n",
    "bg.fit(xtrain,ytrain)\n",
    "ypred = bg.predict(xtest)\n",
    "print(classification_report(ytest,ypred))"
   ]
  },
  {
   "cell_type": "code",
   "execution_count": 50,
   "id": "db80d297",
   "metadata": {},
   "outputs": [
    {
     "name": "stdout",
     "output_type": "stream",
     "text": [
      "________________________________________________________________________________________________________________________\n",
      "\t\t\t\t******************ANALYSIS******************\n",
      "\n",
      "\t\t\t\tBy using Bagging(DecisionTreeClassifier) we get accuracy of 96% again that's good enough.\n",
      "________________________________________________________________________________________________________________________\n",
      "              precision    recall  f1-score   support\n",
      "\n",
      "           0       1.00      0.95      0.98        21\n",
      "           1       1.00      1.00      1.00         4\n",
      "           2       1.00      1.00      1.00         5\n",
      "           3       0.80      1.00      0.89         4\n",
      "           4       1.00      1.00      1.00        16\n",
      "\n",
      "    accuracy                           0.98        50\n",
      "   macro avg       0.96      0.99      0.97        50\n",
      "weighted avg       0.98      0.98      0.98        50\n",
      "\n"
     ]
    }
   ],
   "source": [
    "print((\"_\")*120)\n",
    "print(\"\\t\\t\\t\\t******************ANALYSIS******************\\n\\n\\t\\t\\t\\tBy using Bagging(DecisionTreeClassifier) we get accuracy of 96% again that's good enough.\")\n",
    "print((\"_\")*120)\n",
    "bg = BaggingClassifier(DecisionTreeClassifier())\n",
    "bg.fit(xtrain,ytrain)\n",
    "ypred = bg.predict(xtest)\n",
    "print(classification_report(ytest,ypred))"
   ]
  },
  {
   "cell_type": "code",
   "execution_count": 51,
   "id": "9d6ba687",
   "metadata": {},
   "outputs": [],
   "source": [
    "models =[]\n",
    "models.append((\"lr\",LogisticRegression()))\n",
    "models.append((\"dt\",DecisionTreeClassifier()))"
   ]
  },
  {
   "cell_type": "markdown",
   "id": "83972693-8e8c-493f-aff1-78c7cbac898f",
   "metadata": {},
   "source": [
    "### ii) Voting Classifer"
   ]
  },
  {
   "cell_type": "code",
   "execution_count": 52,
   "id": "421f393e",
   "metadata": {},
   "outputs": [
    {
     "name": "stdout",
     "output_type": "stream",
     "text": [
      "________________________________________________________________________________________________________________________\n",
      "\t\t\t\t******************ANALYSIS******************\n",
      "\n",
      "\t\t\t\tBy using Voting Classifier(hard) we get accuracy of 96% that's quite good enough.\n",
      "________________________________________________________________________________________________________________________\n",
      "              precision    recall  f1-score   support\n",
      "\n",
      "           0       0.91      1.00      0.95        21\n",
      "           1       1.00      1.00      1.00         4\n",
      "           2       1.00      1.00      1.00         5\n",
      "           3       1.00      0.75      0.86         4\n",
      "           4       1.00      0.94      0.97        16\n",
      "\n",
      "    accuracy                           0.96        50\n",
      "   macro avg       0.98      0.94      0.96        50\n",
      "weighted avg       0.96      0.96      0.96        50\n",
      "\n"
     ]
    }
   ],
   "source": [
    "print((\"_\")*120)\n",
    "print(\"\\t\\t\\t\\t******************ANALYSIS******************\\n\\n\\t\\t\\t\\tBy using Voting Classifier(hard) we get accuracy of 96% that's quite good enough.\")\n",
    "print((\"_\")*120)\n",
    "from sklearn.ensemble import VotingClassifier\n",
    "vc = VotingClassifier(estimators = models) # estimators --> model name\n",
    "vc.fit(xtrain,ytrain)\n",
    "ypred = vc.predict(xtest)\n",
    "print(classification_report(ytest,ypred))"
   ]
  },
  {
   "cell_type": "code",
   "execution_count": 53,
   "id": "f97cc86c",
   "metadata": {},
   "outputs": [
    {
     "name": "stdout",
     "output_type": "stream",
     "text": [
      "________________________________________________________________________________________________________________________\n",
      "\t\t\t\t******************ANALYSIS******************\n",
      "\n",
      "\t\t\t\tBy using Voting Classifier(soft) we get accuracy of 98% that's good enough.\n",
      "              precision    recall  f1-score   support\n",
      "\n",
      "           0       1.00      0.95      0.98        21\n",
      "           1       1.00      1.00      1.00         4\n",
      "           2       1.00      1.00      1.00         5\n",
      "           3       0.80      1.00      0.89         4\n",
      "           4       1.00      1.00      1.00        16\n",
      "\n",
      "    accuracy                           0.98        50\n",
      "   macro avg       0.96      0.99      0.97        50\n",
      "weighted avg       0.98      0.98      0.98        50\n",
      "\n"
     ]
    }
   ],
   "source": [
    "print((\"_\")*120)\n",
    "print(\"\\t\\t\\t\\t******************ANALYSIS******************\\n\\n\\t\\t\\t\\tBy using Voting Classifier(soft) we get accuracy of 98% that's good enough.\")\n",
    "from sklearn.ensemble import VotingClassifier\n",
    "vc = VotingClassifier(estimators = models,voting='soft') \n",
    "vc.fit(xtrain,ytrain)\n",
    "ypred = vc.predict(xtest)\n",
    "print(classification_report(ytest,ypred))"
   ]
  },
  {
   "cell_type": "markdown",
   "id": "05edda54",
   "metadata": {},
   "source": [
    "# Conclusion"
   ]
  },
  {
   "cell_type": "code",
   "execution_count": null,
   "id": "fb20ae1b",
   "metadata": {},
   "outputs": [],
   "source": []
  },
  {
   "cell_type": "code",
   "execution_count": null,
   "id": "dc804a73",
   "metadata": {},
   "outputs": [],
   "source": []
  }
 ],
 "metadata": {
  "kernelspec": {
   "display_name": "Python 3 (ipykernel)",
   "language": "python",
   "name": "python3"
  },
  "language_info": {
   "codemirror_mode": {
    "name": "ipython",
    "version": 3
   },
   "file_extension": ".py",
   "mimetype": "text/x-python",
   "name": "python",
   "nbconvert_exporter": "python",
   "pygments_lexer": "ipython3",
   "version": "3.11.4"
  }
 },
 "nbformat": 4,
 "nbformat_minor": 5
}
